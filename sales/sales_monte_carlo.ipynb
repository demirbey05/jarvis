{
 "cells": [
  {
   "cell_type": "code",
   "execution_count": 49,
   "metadata": {},
   "outputs": [],
   "source": [
    "from env import SalesEnv\n",
    "import numpy as np\n",
    "import tqdm\n",
    "import matplotlib.pyplot as plt"
   ]
  },
  {
   "cell_type": "code",
   "execution_count": 25,
   "metadata": {},
   "outputs": [],
   "source": [
    "env = SalesEnv(50,15)"
   ]
  },
  {
   "cell_type": "code",
   "execution_count": 37,
   "metadata": {},
   "outputs": [],
   "source": [
    "class OffPolicyMCAgent:\n",
    "\n",
    "    def __init__(self, env, gamma=1):\n",
    "        self.env = env\n",
    "        self.q_table = np.random.random((len(env.state_space), len(env.action_space)))\n",
    "        self.gamma = gamma\n",
    "        max = np.argmax(self.q_table, axis=1)\n",
    "        self.pi = np.zeros((len(env.state_space),len(env.action_space)))\n",
    "        for i in range(len(env.state_space)):\n",
    "            self.pi[i,max[i]] = 1\n",
    "        # Generate random positive numbers and normalize to create a valid probability distribution\n",
    "        self.b = np.random.uniform(0.1, 1.0, (len(env.state_space), len(env.action_space)))\n",
    "        self.b = self.b / self.b.sum(axis=1)[:, np.newaxis]\n",
    "        self.encountered_states = set()\n",
    "        \n",
    "        self.train()\n",
    "\n",
    "    def generate_episode(self):\n",
    "        episode = []\n",
    "        state = self.env.reset()\n",
    "        while True:\n",
    "            state_index = self.env.state_space.index(state)\n",
    "            action = np.random.choice(self.env.action_space, p=self.b[state_index])\n",
    "            next_state, reward, done = self.env.step(action)  # Unpack the result directly\n",
    "            episode.append((state, action, reward))\n",
    "            state = next_state.copy()  # Make sure to create a copy of the state\n",
    "            if done:\n",
    "                break\n",
    "              # Use the new state directly\n",
    "        return episode\n",
    "\n",
    "\n",
    "    def train(self,num_episodes = 1000000):\n",
    "        c = np.zeros((len(self.env.state_space), len(self.env.action_space)))\n",
    "        for i in tqdm.tqdm(range(num_episodes)):\n",
    "            episode = self.generate_episode()\n",
    "            g = 0\n",
    "            w = 1\n",
    "            for state, action, reward in reversed(episode):\n",
    "                # Get state and action index for the current state\n",
    "                state_index = self.env.state_space.index(state)\n",
    "                action_index = self.env.action_space.index(action)\n",
    "                self.encountered_states.add(state_index)\n",
    "                g = self.gamma * g + reward\n",
    "                c[state_index, action_index] += w\n",
    "                self.q_table[state_index, action_index] += ( w / c[state_index, action_index]) * (g - self.q_table[state_index, action_index])\n",
    "\n",
    "                # Update policy\n",
    "                max = np.argmax(self.q_table[state_index])\n",
    "                self.pi[state_index,:] = np.zeros(len(self.env.action_space))\n",
    "                self.pi[state_index,max] = 1\n",
    "\n",
    "                if action != np.argmax(self.pi[state]):\n",
    "                    break\n",
    "                w = w / self.b[state_index, action_index]\n",
    "\n",
    "\n",
    "\n",
    "\n",
    "\n",
    "    \n"
   ]
  },
  {
   "cell_type": "code",
   "execution_count": 38,
   "metadata": {},
   "outputs": [
    {
     "name": "stderr",
     "output_type": "stream",
     "text": [
      "100%|██████████| 1000000/1000000 [02:33<00:00, 6498.29it/s]\n"
     ]
    }
   ],
   "source": [
    "agent = OffPolicyMCAgent(env)"
   ]
  },
  {
   "cell_type": "code",
   "execution_count": 54,
   "metadata": {},
   "outputs": [
    {
     "data": {
      "text/plain": [
       "<matplotlib.collections.PathCollection at 0x7f5af3ccb4d0>"
      ]
     },
     "execution_count": 54,
     "metadata": {},
     "output_type": "execute_result"
    },
    {
     "data": {
      "image/png": "[encoded data removed]",
      "text/plain": [
       "<Figure size 1000x500 with 1 Axes>"
      ]
     },
     "metadata": {},
     "output_type": "display_data"
    }
   ],
   "source": [
    "inventory = []\n",
    "time = []\n",
    "for i in list(agent.encountered_states):\n",
    "    state = env.state_space[i]\n",
    "    inventory.append(state[0])\n",
    "    time.append(state[1])\n",
    "plt.figure(figsize=(10,5))\n",
    "plt.scatter(time,inventory)"
   ]
  },
  {
   "cell_type": "code",
   "execution_count": null,
   "metadata": {},
   "outputs": [],
   "source": []
  }
 ],
 "metadata": {
  "kernelspec": {
   "display_name": "rl_env",
   "language": "python",
   "name": "python3"
  },
  "language_info": {
   "codemirror_mode": {
    "name": "ipython",
    "version": 3
   },
   "file_extension": ".py",
   "mimetype": "text/x-python",
   "name": "python",
   "nbconvert_exporter": "python",
   "pygments_lexer": "ipython3",
   "version": "3.12.7"
  }
 },
 "nbformat": 4,
 "nbformat_minor": 2
}
